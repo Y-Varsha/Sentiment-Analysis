{
  "nbformat": 4,
  "nbformat_minor": 0,
  "metadata": {
    "colab": {
      "provenance": []
    },
    "kernelspec": {
      "name": "python3",
      "display_name": "Python 3"
    },
    "language_info": {
      "name": "python"
    }
  },
  "cells": [
    {
      "cell_type": "code",
      "source": [
        "import pandas as pd\n",
        "import numpy as np\n",
        "import re\n",
        "from nltk.tokenize import word_tokenize\n",
        "from nltk.corpus import stopwords\n",
        "from nltk.stem import SnowballStemmer\n",
        "from sklearn.feature_extraction.text import CountVectorizer\n",
        "from sklearn.neighbors import KNeighborsClassifier\n",
        "from sklearn.metrics import accuracy_score\n",
        "from sklearn.model_selection import train_test_split\n",
        "import nltk\n",
        "nltk.download('stopwords')\n",
        "import nltk\n",
        "nltk.download('punkt')\n",
        "\n",
        "\n",
        "# Load the data\n",
        "data = pd.read_excel(\"/content/imdb datasets.xlsx\")\n",
        "\n",
        "# Preprocess the text data\n",
        "stop_words = set(stopwords.words(\"english\"))\n",
        "stemmer = SnowballStemmer(\"english\")\n",
        "\n",
        "def preprocess_text(text):\n",
        "    # Remove non-alphanumeric characters and convert to lowercase\n",
        "    text = re.sub(r\"[^a-zA-Z0-9]\", \" \", text.lower())\n",
        "    # Tokenize the text into individual words\n",
        "    words = word_tokenize(text)\n",
        "    # Remove stop words\n",
        "    words = [word for word in words if word not in stop_words]\n",
        "    # Stem the remaining words\n",
        "    words = [stemmer.stem(word) for word in words]\n",
        "    # Join the stemmed words back into a string\n",
        "    return \" \".join(words)\n",
        "\n",
        "data[\"review\"] = data[\"review\"].apply(preprocess_text)\n",
        "\n",
        "# Create a bag-of-words representation of the preprocessed text data\n",
        "vectorizer = CountVectorizer()\n",
        "X = vectorizer.fit_transform(data[\"review\"])\n",
        "y = data[\"sentiment\"]\n",
        "\n",
        "# Split the data into training and testing sets\n",
        "X_train, X_test, y_train, y_test = train_test_split(X, y, test_size=0.2, random_state=5000)\n",
        "\n",
        "# Create a KNN classifier with k=150\n",
        "knn = KNeighborsClassifier(n_neighbors=150)\n",
        "\n",
        "# Train the classifier on the training data\n",
        "knn.fit(X_train, y_train)\n",
        "\n",
        "# Use the classifier to make predictions on the testing data\n",
        "y_pred = knn.predict(X_test)\n",
        "\n",
        "# Evaluate the accuracy of the classifier\n",
        "accuracy = accuracy_score(y_test, y_pred)\n",
        "print(\"Accuracy:\", accuracy)\n"
      ],
      "metadata": {
        "colab": {
          "base_uri": "https://localhost:8080/"
        },
        "id": "EpIFh3q0runS",
        "outputId": "2a7722ab-d02e-426f-b7aa-1af94588f694"
      },
      "execution_count": null,
      "outputs": [
        {
          "output_type": "stream",
          "name": "stderr",
          "text": [
            "[nltk_data] Downloading package stopwords to /root/nltk_data...\n",
            "[nltk_data]   Package stopwords is already up-to-date!\n",
            "[nltk_data] Downloading package punkt to /root/nltk_data...\n",
            "[nltk_data]   Package punkt is already up-to-date!\n"
          ]
        },
        {
          "output_type": "stream",
          "name": "stdout",
          "text": [
            "Accuracy: 0.6908\n"
          ]
        }
      ]
    },
    {
      "cell_type": "code",
      "source": [
        "# Load the trained KNN classifier\n",
        "knn = KNeighborsClassifier(n_neighbors=300)\n",
        "knn.fit(X_train, y_train)\n",
        "\n",
        "# Preprocess the new review text\n",
        "new_review = \"This movie is good\"\n",
        "new_review_processed = preprocess_text(new_review)\n",
        "\n",
        "# Convert the processed review text to a bag-of-words representation\n",
        "new_review_bow = vectorizer.transform([new_review_processed])\n",
        "\n",
        "# Use the trained KNN classifier to predict the sentiment of the new review\n",
        "predicted_sentiment = knn.predict(new_review_bow)\n",
        "\n",
        "print(\"Predicted sentiment:\", predicted_sentiment)\n"
      ],
      "metadata": {
        "colab": {
          "base_uri": "https://localhost:8080/"
        },
        "id": "1onjX9B1syOs",
        "outputId": "3e02a765-693d-403b-d0ae-9490d8bbe9a6"
      },
      "execution_count": null,
      "outputs": [
        {
          "output_type": "stream",
          "name": "stdout",
          "text": [
            "Predicted sentiment: ['positive']\n"
          ]
        }
      ]
    },
    {
      "cell_type": "code",
      "source": [
        "# Load the trained KNN classifier\n",
        "knn = KNeighborsClassifier(n_neighbors=67)\n",
        "knn.fit(X_train, y_train)\n",
        "\n",
        "# Preprocess the new review text\n",
        "new_review = \"This movie is terrible\"\n",
        "new_review_processed = preprocess_text(new_review)\n",
        "\n",
        "# Convert the processed review text to a bag-of-words representation\n",
        "new_review_bow = vectorizer.transform([new_review_processed])\n",
        "\n",
        "# Use the trained KNN classifier to predict the sentiment of the new review\n",
        "predicted_sentiment = knn.predict(new_review_bow)\n",
        "\n",
        "print(\"Predicted sentiment:\", predicted_sentiment)\n"
      ],
      "metadata": {
        "id": "WBxJ4N1gSOm9",
        "colab": {
          "base_uri": "https://localhost:8080/"
        },
        "outputId": "ccc28240-c8ec-4206-ab54-8762894fccba"
      },
      "execution_count": null,
      "outputs": [
        {
          "output_type": "stream",
          "name": "stdout",
          "text": [
            "Predicted sentiment: ['negative']\n"
          ]
        }
      ]
    }
  ]
}