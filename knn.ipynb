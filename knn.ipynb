{
 "cells": [
  {
   "cell_type": "code",
   "execution_count": 135,
   "id": "e796a4cf-96b6-411f-aba3-de944433a89b",
   "metadata": {},
   "outputs": [
    {
     "name": "stderr",
     "output_type": "stream",
     "text": [
      "[nltk_data] Downloading package stopwords to\n",
      "[nltk_data]     C:\\Users\\yelis\\AppData\\Roaming\\nltk_data...\n",
      "[nltk_data]   Package stopwords is already up-to-date!\n",
      "[nltk_data] Downloading package punkt_tab to\n",
      "[nltk_data]     C:\\Users\\yelis\\AppData\\Roaming\\nltk_data...\n",
      "[nltk_data]   Package punkt_tab is already up-to-date!\n"
     ]
    }
   ],
   "source": [
    "import pandas as pd\n",
    "import numpy as np\n",
    "import re\n",
    "#importing nltk and useful datasets\n",
    "import nltk\n",
    "from nltk.tokenize import word_tokenize\n",
    "from nltk.corpus import stopwords\n",
    "from nltk.stem import SnowballStemmer\n",
    "nltk.download('stopwords')\n",
    "import nltk\n",
    "nltk.download('punkt_tab')\n",
    "#importing sklearn\n",
    "from sklearn.feature_extraction.text import CountVectorizer\n",
    "from sklearn.neighbors import KNeighborsClassifier\n",
    "from sklearn.metrics import accuracy_score\n",
    "from sklearn.model_selection import train_test_split"
   ]
  },
  {
   "cell_type": "code",
   "execution_count": 148,
   "id": "1a8c92d5-a60d-4abe-bac3-df79bf37fa5e",
   "metadata": {},
   "outputs": [],
   "source": [
    "#load data\n",
    "data = pd.read_excel(r\"C:\\Users\\yelis\\Downloads\\Sentiment Analysis\\imdb datasets.xlsx\")"
   ]
  },
  {
   "cell_type": "code",
   "execution_count": 149,
   "id": "8900c5ef-3b14-4174-bbaa-9f91dc47b86d",
   "metadata": {},
   "outputs": [
    {
     "data": {
      "text/html": [
       "<div>\n",
       "<style scoped>\n",
       "    .dataframe tbody tr th:only-of-type {\n",
       "        vertical-align: middle;\n",
       "    }\n",
       "\n",
       "    .dataframe tbody tr th {\n",
       "        vertical-align: top;\n",
       "    }\n",
       "\n",
       "    .dataframe thead th {\n",
       "        text-align: right;\n",
       "    }\n",
       "</style>\n",
       "<table border=\"1\" class=\"dataframe\">\n",
       "  <thead>\n",
       "    <tr style=\"text-align: right;\">\n",
       "      <th></th>\n",
       "      <th>text</th>\n",
       "      <th>sentiment</th>\n",
       "    </tr>\n",
       "  </thead>\n",
       "  <tbody>\n",
       "    <tr>\n",
       "      <th>0</th>\n",
       "      <td>One of the other reviewers has mentioned that ...</td>\n",
       "      <td>positive</td>\n",
       "    </tr>\n",
       "    <tr>\n",
       "      <th>1</th>\n",
       "      <td>A wonderful little production. &lt;br /&gt;&lt;br /&gt;The...</td>\n",
       "      <td>positive</td>\n",
       "    </tr>\n",
       "    <tr>\n",
       "      <th>2</th>\n",
       "      <td>I thought this was a wonderful way to spend ti...</td>\n",
       "      <td>positive</td>\n",
       "    </tr>\n",
       "    <tr>\n",
       "      <th>3</th>\n",
       "      <td>Basically there's a family where a little boy ...</td>\n",
       "      <td>negative</td>\n",
       "    </tr>\n",
       "    <tr>\n",
       "      <th>4</th>\n",
       "      <td>Petter Mattei's \"Love in the Time of Money\" is...</td>\n",
       "      <td>positive</td>\n",
       "    </tr>\n",
       "  </tbody>\n",
       "</table>\n",
       "</div>"
      ],
      "text/plain": [
       "                                                text sentiment\n",
       "0  One of the other reviewers has mentioned that ...  positive\n",
       "1  A wonderful little production. <br /><br />The...  positive\n",
       "2  I thought this was a wonderful way to spend ti...  positive\n",
       "3  Basically there's a family where a little boy ...  negative\n",
       "4  Petter Mattei's \"Love in the Time of Money\" is...  positive"
      ]
     },
     "execution_count": 149,
     "metadata": {},
     "output_type": "execute_result"
    }
   ],
   "source": [
    "data.head()"
   ]
  },
  {
   "cell_type": "code",
   "execution_count": 162,
   "id": "e8bbd9a3-a65d-4ba3-8257-117e727a7e70",
   "metadata": {},
   "outputs": [
    {
     "data": {
      "text/html": [
       "<div>\n",
       "<style scoped>\n",
       "    .dataframe tbody tr th:only-of-type {\n",
       "        vertical-align: middle;\n",
       "    }\n",
       "\n",
       "    .dataframe tbody tr th {\n",
       "        vertical-align: top;\n",
       "    }\n",
       "\n",
       "    .dataframe thead th {\n",
       "        text-align: right;\n",
       "    }\n",
       "</style>\n",
       "<table border=\"1\" class=\"dataframe\">\n",
       "  <thead>\n",
       "    <tr style=\"text-align: right;\">\n",
       "      <th></th>\n",
       "      <th>text</th>\n",
       "      <th>sentiment</th>\n",
       "    </tr>\n",
       "  </thead>\n",
       "  <tbody>\n",
       "    <tr>\n",
       "      <th>count</th>\n",
       "      <td>50000</td>\n",
       "      <td>50000</td>\n",
       "    </tr>\n",
       "    <tr>\n",
       "      <th>unique</th>\n",
       "      <td>49575</td>\n",
       "      <td>2</td>\n",
       "    </tr>\n",
       "    <tr>\n",
       "      <th>top</th>\n",
       "      <td>love today show varieti sole cook would great ...</td>\n",
       "      <td>positive</td>\n",
       "    </tr>\n",
       "    <tr>\n",
       "      <th>freq</th>\n",
       "      <td>5</td>\n",
       "      <td>25000</td>\n",
       "    </tr>\n",
       "  </tbody>\n",
       "</table>\n",
       "</div>"
      ],
      "text/plain": [
       "                                                     text sentiment\n",
       "count                                               50000     50000\n",
       "unique                                              49575         2\n",
       "top     love today show varieti sole cook would great ...  positive\n",
       "freq                                                    5     25000"
      ]
     },
     "execution_count": 162,
     "metadata": {},
     "output_type": "execute_result"
    }
   ],
   "source": [
    "#exploratory data analysis\n",
    "data.describe()"
   ]
  },
  {
   "cell_type": "code",
   "execution_count": 163,
   "id": "f7947a00-35e7-4d40-ace8-b4df6a609ecf",
   "metadata": {},
   "outputs": [
    {
     "data": {
      "text/plain": [
       "sentiment\n",
       "positive    25000\n",
       "negative    25000\n",
       "Name: count, dtype: int64"
      ]
     },
     "execution_count": 163,
     "metadata": {},
     "output_type": "execute_result"
    }
   ],
   "source": [
    "data['sentiment'].value_counts()"
   ]
  },
  {
   "cell_type": "code",
   "execution_count": 164,
   "id": "cf286e79-8c6e-4974-aa14-181093d6843d",
   "metadata": {},
   "outputs": [
    {
     "name": "stdout",
     "output_type": "stream",
     "text": [
      "<class 'pandas.core.frame.DataFrame'>\n",
      "RangeIndex: 50000 entries, 0 to 49999\n",
      "Data columns (total 2 columns):\n",
      " #   Column     Non-Null Count  Dtype \n",
      "---  ------     --------------  ----- \n",
      " 0   text       50000 non-null  object\n",
      " 1   sentiment  50000 non-null  object\n",
      "dtypes: object(2)\n",
      "memory usage: 781.4+ KB\n"
     ]
    }
   ],
   "source": [
    "data.info()"
   ]
  },
  {
   "cell_type": "code",
   "execution_count": 165,
   "id": "2db506aa-0c0f-4729-ae83-9b657d553e02",
   "metadata": {},
   "outputs": [],
   "source": [
    "# test stemming and removing stopwords\n",
    "stop_words = set(stopwords.words(\"english\"))\n",
    "stemmer = SnowballStemmer(\"english\")"
   ]
  },
  {
   "cell_type": "code",
   "execution_count": 166,
   "id": "594afa6e-b067-4aa3-a943-f90555c9c432",
   "metadata": {},
   "outputs": [],
   "source": [
    "# Defining a function to preprocess data\n",
    "def preprocessing_text(text):\n",
    "    # Removing all values other than alphanumeric values and converting the text to lowercase\n",
    "    text = re.sub(r\"[^a-zA-Z0-9]\", \" \", text.lower())\n",
    "    # Tokenizing the text into individual words\n",
    "    words = word_tokenize(text)\n",
    "    # Removing stop words\n",
    "    words = [word for word in words if word not in stop_words]\n",
    "    # Text stemming\n",
    "    words = [stemmer.stem(word) for word in words]\n",
    "    # Joining all these tokens back to a string\n",
    "    return \" \".join(words)\n"
   ]
  },
  {
   "cell_type": "code",
   "execution_count": 167,
   "id": "3652d1c5-c8f6-441d-ab32-0013bba9e86f",
   "metadata": {},
   "outputs": [],
   "source": [
    "#apply function to our dataset\n",
    "data['text']=data['text'].apply(preprocessing_text)"
   ]
  },
  {
   "cell_type": "code",
   "execution_count": 168,
   "id": "f0c4a542-a324-47a9-a10a-ce4ff97cb490",
   "metadata": {},
   "outputs": [],
   "source": [
    "#create a bag of words for the preprocessed data\n",
    "vectorizer = CountVectorizer()\n",
    "x = vectorizer.fit_transform(data['text'])\n",
    "y=data['sentiment']"
   ]
  },
  {
   "cell_type": "code",
   "execution_count": 169,
   "id": "3f347246-8ac5-42a7-affc-118c2e466564",
   "metadata": {},
   "outputs": [],
   "source": [
    "#split,train,test\n",
    "x_train,x_test,y_train,y_test = train_test_split(x,y,test_size =0.2,random_state = 50)\n",
    "knn = KNeighborsClassifier(n_neighbors=150)\n",
    "knn.fit(x_train,y_train)\n",
    "y_pred = knn.predict(x_test)\n",
    "accuracy = accuracy_score(y_test,y_pred)"
   ]
  },
  {
   "cell_type": "code",
   "execution_count": 170,
   "id": "0a511c70-9c74-4c02-b00d-52673884a6ad",
   "metadata": {},
   "outputs": [
    {
     "name": "stdout",
     "output_type": "stream",
     "text": [
      "accuracy: 68.11\n"
     ]
    }
   ],
   "source": [
    "print('accuracy:', round(accuracy*100,2))"
   ]
  },
  {
   "cell_type": "code",
   "execution_count": 171,
   "id": "ca167d1d-e44c-46a3-9568-8d15b19fc63d",
   "metadata": {},
   "outputs": [
    {
     "name": "stdout",
     "output_type": "stream",
     "text": [
      "Predicted sentiment: ['positive']\n"
     ]
    }
   ],
   "source": [
    "# Load the trained KNN classifier\n",
    "knn = KNeighborsClassifier(n_neighbors=300)\n",
    "knn.fit(x_train, y_train)\n",
    "\n",
    "# Preprocess the new review text\n",
    "new_review = \"This movie is good\"\n",
    "new_review_processed = preprocessing_text(new_review)\n",
    "\n",
    "# Convert the processed review text to a bag-of-words representation\n",
    "new_review_bow = vectorizer.transform([new_review_processed])\n",
    "\n",
    "# Use the trained KNN classifier to predict the sentiment of the new review\n",
    "predicted_sentiment = knn.predict(new_review_bow)\n",
    "\n",
    "print(\"Predicted sentiment:\", predicted_sentiment)"
   ]
  },
  {
   "cell_type": "code",
   "execution_count": 172,
   "id": "df680487-8d6e-4642-8875-0da4d4dc5d6c",
   "metadata": {},
   "outputs": [
    {
     "name": "stdout",
     "output_type": "stream",
     "text": [
      "Predicted sentiment: ['negative']\n"
     ]
    }
   ],
   "source": [
    "# Load the trained KNN classifier\n",
    "knn = KNeighborsClassifier(n_neighbors=67)\n",
    "knn.fit(x_train, y_train)\n",
    "\n",
    "# Preprocess the new review text\n",
    "new_review = \"This movie is terrible\"\n",
    "new_review_processed = preprocessing_text(new_review)\n",
    "\n",
    "# Convert the processed review text to a bag-of-words representation\n",
    "new_review_bow = vectorizer.transform([new_review_processed])\n",
    "\n",
    "# Use the trained KNN classifier to predict the sentiment of the new review\n",
    "predicted_sentiment = knn.predict(new_review_bow)\n",
    "\n",
    "print(\"Predicted sentiment:\", predicted_sentiment)"
   ]
  },
  {
   "cell_type": "code",
   "execution_count": null,
   "id": "0e371617-9b1c-404e-bc81-c42966b21e81",
   "metadata": {},
   "outputs": [],
   "source": []
  }
 ],
 "metadata": {
  "kernelspec": {
   "display_name": "Python 3 (ipykernel)",
   "language": "python",
   "name": "python3"
  },
  "language_info": {
   "codemirror_mode": {
    "name": "ipython",
    "version": 3
   },
   "file_extension": ".py",
   "mimetype": "text/x-python",
   "name": "python",
   "nbconvert_exporter": "python",
   "pygments_lexer": "ipython3",
   "version": "3.11.3"
  }
 },
 "nbformat": 4,
 "nbformat_minor": 5
}
